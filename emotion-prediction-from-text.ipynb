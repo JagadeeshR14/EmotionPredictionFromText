{
 "cells": [
  {
   "cell_type": "code",
   "execution_count": 2,
   "id": "alleged-visiting",
   "metadata": {
    "_cell_guid": "b1076dfc-b9ad-4769-8c92-a6c4dae69d19",
    "_uuid": "8f2839f25d086af736a60e9eeb907d3b93b6e0e5",
    "execution": {
     "iopub.execute_input": "2021-05-20T20:03:51.683690Z",
     "iopub.status.busy": "2021-05-20T20:03:51.682199Z",
     "iopub.status.idle": "2021-05-20T20:03:57.744935Z",
     "shell.execute_reply": "2021-05-20T20:03:57.744373Z",
     "shell.execute_reply.started": "2021-05-20T19:07:30.175262Z"
    },
    "papermill": {
     "duration": 6.088222,
     "end_time": "2021-05-20T20:03:57.745116",
     "exception": false,
     "start_time": "2021-05-20T20:03:51.656894",
     "status": "completed"
    },
    "tags": []
   },
   "outputs": [],
   "source": [
    "import numpy as np\n",
    "import pandas as pd \n",
    "import tensorflow as tf\n",
    "import nltk\n",
    "import seaborn as sns\n",
    "import re\n",
    "import matplotlib.pyplot as plt\n",
    "\n",
    "from tensorflow.keras.layers import Embedding, Dense, LSTM, Dropout, Bidirectional\n",
    "from tensorflow.keras.preprocessing.sequence import pad_sequences\n",
    "from tensorflow.keras.models import Sequential\n",
    "from tensorflow.keras.preprocessing.text import one_hot\n",
    "from tensorflow.keras.callbacks import ModelCheckpoint\n",
    "from nltk.corpus import stopwords\n",
    "from sklearn import preprocessing\n",
    "from sklearn.model_selection import train_test_split\n",
    "from sklearn.metrics import accuracy_score, classification_report, confusion_matrix\n",
    "\n"
   ]
  },
  {
   "cell_type": "code",
   "execution_count": 3,
   "id": "descending-stable",
   "metadata": {
    "execution": {
     "iopub.execute_input": "2021-05-20T20:03:57.798499Z",
     "iopub.status.busy": "2021-05-20T20:03:57.797855Z",
     "iopub.status.idle": "2021-05-20T20:03:57.878421Z",
     "shell.execute_reply": "2021-05-20T20:03:57.878788Z",
     "shell.execute_reply.started": "2021-05-20T19:07:30.184144Z"
    },
    "papermill": {
     "duration": 0.112392,
     "end_time": "2021-05-20T20:03:57.878924",
     "exception": false,
     "start_time": "2021-05-20T20:03:57.766532",
     "status": "completed"
    },
    "tags": []
   },
   "outputs": [
    {
     "data": {
      "text/html": [
       "<div>\n",
       "<style scoped>\n",
       "    .dataframe tbody tr th:only-of-type {\n",
       "        vertical-align: middle;\n",
       "    }\n",
       "\n",
       "    .dataframe tbody tr th {\n",
       "        vertical-align: top;\n",
       "    }\n",
       "\n",
       "    .dataframe thead th {\n",
       "        text-align: right;\n",
       "    }\n",
       "</style>\n",
       "<table border=\"1\" class=\"dataframe\">\n",
       "  <thead>\n",
       "    <tr style=\"text-align: right;\">\n",
       "      <th></th>\n",
       "      <th>Text</th>\n",
       "      <th>Emotion</th>\n",
       "    </tr>\n",
       "  </thead>\n",
       "  <tbody>\n",
       "    <tr>\n",
       "      <th>0</th>\n",
       "      <td>i didnt feel humiliated</td>\n",
       "      <td>sadness</td>\n",
       "    </tr>\n",
       "    <tr>\n",
       "      <th>1</th>\n",
       "      <td>i can go from feeling so hopeless to so damned...</td>\n",
       "      <td>sadness</td>\n",
       "    </tr>\n",
       "    <tr>\n",
       "      <th>2</th>\n",
       "      <td>im grabbing a minute to post i feel greedy wrong</td>\n",
       "      <td>anger</td>\n",
       "    </tr>\n",
       "    <tr>\n",
       "      <th>3</th>\n",
       "      <td>i am ever feeling nostalgic about the fireplac...</td>\n",
       "      <td>love</td>\n",
       "    </tr>\n",
       "    <tr>\n",
       "      <th>4</th>\n",
       "      <td>i am feeling grouchy</td>\n",
       "      <td>anger</td>\n",
       "    </tr>\n",
       "  </tbody>\n",
       "</table>\n",
       "</div>"
      ],
      "text/plain": [
       "                                                Text  Emotion\n",
       "0                            i didnt feel humiliated  sadness\n",
       "1  i can go from feeling so hopeless to so damned...  sadness\n",
       "2   im grabbing a minute to post i feel greedy wrong    anger\n",
       "3  i am ever feeling nostalgic about the fireplac...     love\n",
       "4                               i am feeling grouchy    anger"
      ]
     },
     "execution_count": 3,
     "metadata": {},
     "output_type": "execute_result"
    }
   ],
   "source": [
    "df=pd.read_csv('Emotion_final.csv')\n",
    "df.head()"
   ]
  },
  {
   "cell_type": "code",
   "execution_count": 4,
   "id": "genuine-admission",
   "metadata": {
    "execution": {
     "iopub.execute_input": "2021-05-20T20:03:57.927089Z",
     "iopub.status.busy": "2021-05-20T20:03:57.925820Z",
     "iopub.status.idle": "2021-05-20T20:03:57.930731Z",
     "shell.execute_reply": "2021-05-20T20:03:57.930340Z",
     "shell.execute_reply.started": "2021-05-20T19:07:30.234836Z"
    },
    "papermill": {
     "duration": 0.03056,
     "end_time": "2021-05-20T20:03:57.930834",
     "exception": false,
     "start_time": "2021-05-20T20:03:57.900274",
     "status": "completed"
    },
    "tags": []
   },
   "outputs": [
    {
     "data": {
      "text/plain": [
       "array(['sadness', 'anger', 'love', 'surprise', 'fear', 'happy'],\n",
       "      dtype=object)"
      ]
     },
     "execution_count": 4,
     "metadata": {},
     "output_type": "execute_result"
    }
   ],
   "source": [
    "df['Emotion'].unique()"
   ]
  },
  {
   "cell_type": "code",
   "execution_count": 5,
   "id": "italic-operator",
   "metadata": {
    "execution": {
     "iopub.execute_input": "2021-05-20T20:03:57.979763Z",
     "iopub.status.busy": "2021-05-20T20:03:57.979189Z",
     "iopub.status.idle": "2021-05-20T20:03:57.996190Z",
     "shell.execute_reply": "2021-05-20T20:03:57.995767Z",
     "shell.execute_reply.started": "2021-05-20T19:07:30.244846Z"
    },
    "papermill": {
     "duration": 0.044632,
     "end_time": "2021-05-20T20:03:57.996298",
     "exception": false,
     "start_time": "2021-05-20T20:03:57.951666",
     "status": "completed"
    },
    "tags": []
   },
   "outputs": [],
   "source": [
    "df=df.dropna()"
   ]
  },
  {
   "cell_type": "code",
   "execution_count": 6,
   "id": "going-february",
   "metadata": {
    "execution": {
     "iopub.execute_input": "2021-05-20T20:03:58.043206Z",
     "iopub.status.busy": "2021-05-20T20:03:58.042658Z",
     "iopub.status.idle": "2021-05-20T20:03:58.046372Z",
     "shell.execute_reply": "2021-05-20T20:03:58.045959Z",
     "shell.execute_reply.started": "2021-05-20T19:07:30.258529Z"
    },
    "papermill": {
     "duration": 0.02934,
     "end_time": "2021-05-20T20:03:58.046485",
     "exception": false,
     "start_time": "2021-05-20T20:03:58.017145",
     "status": "completed"
    },
    "tags": []
   },
   "outputs": [],
   "source": [
    "X=df.drop('Emotion',axis=1)\n",
    "y=df['Emotion']"
   ]
  },
  {
   "cell_type": "code",
   "execution_count": 7,
   "id": "herbal-democrat",
   "metadata": {
    "execution": {
     "iopub.execute_input": "2021-05-20T20:03:58.090858Z",
     "iopub.status.busy": "2021-05-20T20:03:58.090378Z",
     "iopub.status.idle": "2021-05-20T20:03:58.094349Z",
     "shell.execute_reply": "2021-05-20T20:03:58.093912Z",
     "shell.execute_reply.started": "2021-05-20T19:07:30.270284Z"
    },
    "papermill": {
     "duration": 0.027437,
     "end_time": "2021-05-20T20:03:58.094461",
     "exception": false,
     "start_time": "2021-05-20T20:03:58.067024",
     "status": "completed"
    },
    "tags": []
   },
   "outputs": [],
   "source": [
    "### Vocabulary size\n",
    "voc_size=10000"
   ]
  },
  {
   "cell_type": "code",
   "execution_count": 8,
   "id": "generous-coast",
   "metadata": {
    "execution": {
     "iopub.execute_input": "2021-05-20T20:03:58.141476Z",
     "iopub.status.busy": "2021-05-20T20:03:58.140277Z",
     "iopub.status.idle": "2021-05-20T20:03:58.142518Z",
     "shell.execute_reply": "2021-05-20T20:03:58.142911Z",
     "shell.execute_reply.started": "2021-05-20T19:07:30.280990Z"
    },
    "papermill": {
     "duration": 0.027879,
     "end_time": "2021-05-20T20:03:58.143020",
     "exception": false,
     "start_time": "2021-05-20T20:03:58.115141",
     "status": "completed"
    },
    "tags": []
   },
   "outputs": [],
   "source": [
    "messages=X.copy()\n",
    "messages.reset_index(inplace=True)"
   ]
  },
  {
   "cell_type": "code",
   "execution_count": 9,
   "id": "considered-depth",
   "metadata": {
    "execution": {
     "iopub.execute_input": "2021-05-20T20:03:58.194059Z",
     "iopub.status.busy": "2021-05-20T20:03:58.193479Z",
     "iopub.status.idle": "2021-05-20T20:03:58.344886Z",
     "shell.execute_reply": "2021-05-20T20:03:58.344441Z",
     "shell.execute_reply.started": "2021-05-20T19:07:30.289790Z"
    },
    "papermill": {
     "duration": 0.181337,
     "end_time": "2021-05-20T20:03:58.344995",
     "exception": false,
     "start_time": "2021-05-20T20:03:58.163658",
     "status": "completed"
    },
    "tags": []
   },
   "outputs": [
    {
     "name": "stderr",
     "output_type": "stream",
     "text": [
      "[nltk_data] Downloading package stopwords to\n",
      "[nltk_data]     /Users/jagadeesh/nltk_data...\n",
      "[nltk_data]   Package stopwords is already up-to-date!\n"
     ]
    },
    {
     "data": {
      "text/plain": [
       "True"
      ]
     },
     "execution_count": 9,
     "metadata": {},
     "output_type": "execute_result"
    }
   ],
   "source": [
    "nltk.download('stopwords')"
   ]
  },
  {
   "cell_type": "code",
   "execution_count": 14,
   "id": "charitable-sequence",
   "metadata": {
    "execution": {
     "iopub.execute_input": "2021-05-20T20:03:58.393867Z",
     "iopub.status.busy": "2021-05-20T20:03:58.393295Z",
     "iopub.status.idle": "2021-05-20T20:04:47.991534Z",
     "shell.execute_reply": "2021-05-20T20:04:47.990476Z",
     "shell.execute_reply.started": "2021-05-20T19:07:30.303545Z"
    },
    "papermill": {
     "duration": 49.625236,
     "end_time": "2021-05-20T20:04:47.991699",
     "exception": false,
     "start_time": "2021-05-20T20:03:58.366463",
     "status": "completed"
    },
    "tags": []
   },
   "outputs": [],
   "source": [
    "from nltk.stem.porter import PorterStemmer\n",
    "ps = PorterStemmer()\n",
    "corpus = []\n",
    "for i in range(0, len(messages)):\n",
    "    review = re.sub('[^a-zA-Z]', ' ', messages['Text'][i])\n",
    "    review = review.lower()\n",
    "    review = review.split()\n",
    "    review = [ps.stem(word) for word in review if not word in stopwords.words('english')]\n",
    "    review = ' '.join(review)\n",
    "    corpus.append(review)"
   ]
  },
  {
   "cell_type": "code",
   "execution_count": 15,
   "id": "c194a54e",
   "metadata": {},
   "outputs": [
    {
     "data": {
      "text/plain": [
       "['didnt feel humili',\n",
       " 'go feel hopeless damn hope around someon care awak',\n",
       " 'im grab minut post feel greedi wrong',\n",
       " 'ever feel nostalg fireplac know still properti',\n",
       " 'feel grouchi',\n",
       " 'ive feel littl burden late wasnt sure',\n",
       " 'ive take milligram time recommend amount ive fallen asleep lot faster also feel like funni',\n",
       " 'feel confus life teenag jade year old man',\n",
       " 'petrona year feel petrona perform well made huge profit',\n",
       " 'feel romant']"
      ]
     },
     "execution_count": 15,
     "metadata": {},
     "output_type": "execute_result"
    }
   ],
   "source": [
    "corpus[:10]"
   ]
  },
  {
   "cell_type": "code",
   "execution_count": 16,
   "id": "painted-sussex",
   "metadata": {
    "execution": {
     "iopub.execute_input": "2021-05-20T20:04:48.129152Z",
     "iopub.status.busy": "2021-05-20T20:04:48.113852Z",
     "iopub.status.idle": "2021-05-20T20:04:48.349678Z",
     "shell.execute_reply": "2021-05-20T20:04:48.350158Z",
     "shell.execute_reply.started": "2021-05-20T19:08:21.077379Z"
    },
    "papermill": {
     "duration": 0.283581,
     "end_time": "2021-05-20T20:04:48.350321",
     "exception": false,
     "start_time": "2021-05-20T20:04:48.066740",
     "status": "completed"
    },
    "tags": []
   },
   "outputs": [],
   "source": [
    "onehot_repr=[one_hot(words,voc_size)for words in corpus] "
   ]
  },
  {
   "cell_type": "code",
   "execution_count": 17,
   "id": "composed-opposition",
   "metadata": {
    "execution": {
     "iopub.execute_input": "2021-05-20T20:04:48.417958Z",
     "iopub.status.busy": "2021-05-20T20:04:48.408025Z",
     "iopub.status.idle": "2021-05-20T20:04:48.422674Z",
     "shell.execute_reply": "2021-05-20T20:04:48.422248Z",
     "shell.execute_reply.started": "2021-05-20T19:08:21.338400Z"
    },
    "papermill": {
     "duration": 0.04953,
     "end_time": "2021-05-20T20:04:48.422786",
     "exception": false,
     "start_time": "2021-05-20T20:04:48.373256",
     "status": "completed"
    },
    "tags": []
   },
   "outputs": [
    {
     "name": "stdout",
     "output_type": "stream",
     "text": [
      "35\n"
     ]
    }
   ],
   "source": [
    "#Finding max words\n",
    "l = 0\n",
    "for x in corpus:\n",
    "    l = max(l,len(x.split(' ')))\n",
    "print(l)"
   ]
  },
  {
   "cell_type": "code",
   "execution_count": 18,
   "id": "precious-equation",
   "metadata": {
    "execution": {
     "iopub.execute_input": "2021-05-20T20:04:48.475118Z",
     "iopub.status.busy": "2021-05-20T20:04:48.474340Z",
     "iopub.status.idle": "2021-05-20T20:04:48.623648Z",
     "shell.execute_reply": "2021-05-20T20:04:48.624111Z",
     "shell.execute_reply.started": "2021-05-20T19:08:21.366981Z"
    },
    "papermill": {
     "duration": 0.17869,
     "end_time": "2021-05-20T20:04:48.624244",
     "exception": false,
     "start_time": "2021-05-20T20:04:48.445554",
     "status": "completed"
    },
    "tags": []
   },
   "outputs": [
    {
     "name": "stdout",
     "output_type": "stream",
     "text": [
      "[[   0    0    0 ... 2729 7645 9780]\n",
      " [   0    0    0 ... 8467 1283 5293]\n",
      " [   0    0    0 ... 7645 2935 1270]\n",
      " ...\n",
      " [   0    0    0 ... 2536 8494  270]\n",
      " [   0    0    0 ... 7661  270 7371]\n",
      " [   0    0    0 ...    0  270 4287]]\n"
     ]
    }
   ],
   "source": [
    "sent_length=35\n",
    "embedded_docs=pad_sequences(onehot_repr,padding='pre',maxlen=sent_length)\n",
    "print(embedded_docs)"
   ]
  },
  {
   "cell_type": "code",
   "execution_count": 19,
   "id": "crude-queens",
   "metadata": {
    "execution": {
     "iopub.execute_input": "2021-05-20T20:04:48.676014Z",
     "iopub.status.busy": "2021-05-20T20:04:48.675249Z",
     "iopub.status.idle": "2021-05-20T20:04:48.678569Z",
     "shell.execute_reply": "2021-05-20T20:04:48.678965Z",
     "shell.execute_reply.started": "2021-05-20T19:08:21.526715Z"
    },
    "papermill": {
     "duration": 0.030805,
     "end_time": "2021-05-20T20:04:48.679096",
     "exception": false,
     "start_time": "2021-05-20T20:04:48.648291",
     "status": "completed"
    },
    "tags": []
   },
   "outputs": [
    {
     "data": {
      "text/plain": [
       "array([   0,    0,    0,    0,    0,    0,    0,    0,    0,    0,    0,\n",
       "          0,    0,    0,    0,    0,    0,    0,    0,    0,    0,    0,\n",
       "          0,    0,    0,    0,    0,    0,    0,    0,    0,    0, 2729,\n",
       "       7645, 9780], dtype=int32)"
      ]
     },
     "execution_count": 19,
     "metadata": {},
     "output_type": "execute_result"
    }
   ],
   "source": [
    "embedded_docs[0]"
   ]
  },
  {
   "cell_type": "code",
   "execution_count": 20,
   "id": "grand-drive",
   "metadata": {
    "execution": {
     "iopub.execute_input": "2021-05-20T20:04:48.732495Z",
     "iopub.status.busy": "2021-05-20T20:04:48.731951Z",
     "iopub.status.idle": "2021-05-20T20:04:51.385624Z",
     "shell.execute_reply": "2021-05-20T20:04:51.385206Z",
     "shell.execute_reply.started": "2021-05-20T19:08:21.536258Z"
    },
    "papermill": {
     "duration": 2.682812,
     "end_time": "2021-05-20T20:04:51.385742",
     "exception": false,
     "start_time": "2021-05-20T20:04:48.702930",
     "status": "completed"
    },
    "tags": []
   },
   "outputs": [
    {
     "name": "stderr",
     "output_type": "stream",
     "text": [
      "WARNING:absl:At this time, the v2.11+ optimizer `tf.keras.optimizers.Adam` runs slowly on M1/M2 Macs, please use the legacy Keras optimizer instead, located at `tf.keras.optimizers.legacy.Adam`.\n"
     ]
    },
    {
     "name": "stdout",
     "output_type": "stream",
     "text": [
      "Model: \"sequential\"\n",
      "_________________________________________________________________\n",
      " Layer (type)                Output Shape              Param #   \n",
      "=================================================================\n",
      " embedding (Embedding)       (None, 35, 100)           1000000   \n",
      "                                                                 \n",
      " dropout (Dropout)           (None, 35, 100)           0         \n",
      "                                                                 \n",
      " bidirectional (Bidirection  (None, 128)               84480     \n",
      " al)                                                             \n",
      "                                                                 \n",
      " dropout_1 (Dropout)         (None, 128)               0         \n",
      "                                                                 \n",
      " dense (Dense)               (None, 64)                8256      \n",
      "                                                                 \n",
      " dropout_2 (Dropout)         (None, 64)                0         \n",
      "                                                                 \n",
      " dense_1 (Dense)             (None, 6)                 390       \n",
      "                                                                 \n",
      "=================================================================\n",
      "Total params: 1093126 (4.17 MB)\n",
      "Trainable params: 1093126 (4.17 MB)\n",
      "Non-trainable params: 0 (0.00 Byte)\n",
      "_________________________________________________________________\n"
     ]
    }
   ],
   "source": [
    "# Creating model\n",
    "embedding_vector_features=100\n",
    "model=Sequential()\n",
    "model.add(Embedding(voc_size,embedding_vector_features,input_length=sent_length))\n",
    "model.add(Dropout(0.3))\n",
    "model.add(Bidirectional(LSTM(64)))\n",
    "model.add(Dropout(0.3))\n",
    "model.add(Dense(64, activation='relu',kernel_regularizer=tf.keras.regularizers.l1(0.01)))\n",
    "model.add(Dropout(0.3))\n",
    "model.add(Dense(6,activation='softmax'))\n",
    "model.compile(loss='sparse_categorical_crossentropy',optimizer= tf.keras.optimizers.Adam(learning_rate=0.01),\n",
    "              metrics=['accuracy'])\n",
    "model.summary()"
   ]
  },
  {
   "cell_type": "code",
   "execution_count": 21,
   "id": "warming-supply",
   "metadata": {
    "execution": {
     "iopub.execute_input": "2021-05-20T20:04:51.436664Z",
     "iopub.status.busy": "2021-05-20T20:04:51.435787Z",
     "iopub.status.idle": "2021-05-20T20:04:51.448469Z",
     "shell.execute_reply": "2021-05-20T20:04:51.447855Z",
     "shell.execute_reply.started": "2021-05-20T19:08:21.978936Z"
    },
    "papermill": {
     "duration": 0.039785,
     "end_time": "2021-05-20T20:04:51.448611",
     "exception": false,
     "start_time": "2021-05-20T20:04:51.408826",
     "status": "completed"
    },
    "tags": []
   },
   "outputs": [
    {
     "name": "stdout",
     "output_type": "stream",
     "text": [
      "[4 4 0 ... 1 1 1]\n"
     ]
    }
   ],
   "source": [
    "label_encoder = preprocessing.LabelEncoder()\n",
    "\n",
    "X_final=np.array(embedded_docs)\n",
    "y = label_encoder.fit_transform(y)\n",
    "y_final=np.array(y)\n",
    "print(y_final)"
   ]
  },
  {
   "cell_type": "code",
   "execution_count": 22,
   "id": "hired-peoples",
   "metadata": {
    "execution": {
     "iopub.execute_input": "2021-05-20T20:04:51.499247Z",
     "iopub.status.busy": "2021-05-20T20:04:51.498727Z",
     "iopub.status.idle": "2021-05-20T20:04:51.503974Z",
     "shell.execute_reply": "2021-05-20T20:04:51.504355Z",
     "shell.execute_reply.started": "2021-05-20T19:08:21.995549Z"
    },
    "papermill": {
     "duration": 0.032108,
     "end_time": "2021-05-20T20:04:51.504485",
     "exception": false,
     "start_time": "2021-05-20T20:04:51.472377",
     "status": "completed"
    },
    "tags": []
   },
   "outputs": [
    {
     "data": {
      "text/plain": [
       "((21459, 35), (21459,))"
      ]
     },
     "execution_count": 22,
     "metadata": {},
     "output_type": "execute_result"
    }
   ],
   "source": [
    "X_final.shape,y_final.shape"
   ]
  },
  {
   "cell_type": "code",
   "execution_count": 23,
   "id": "controversial-anger",
   "metadata": {
    "execution": {
     "iopub.execute_input": "2021-05-20T20:04:51.556428Z",
     "iopub.status.busy": "2021-05-20T20:04:51.555712Z",
     "iopub.status.idle": "2021-05-20T20:04:51.565307Z",
     "shell.execute_reply": "2021-05-20T20:04:51.565683Z",
     "shell.execute_reply.started": "2021-05-20T19:08:22.003406Z"
    },
    "papermill": {
     "duration": 0.037971,
     "end_time": "2021-05-20T20:04:51.565805",
     "exception": false,
     "start_time": "2021-05-20T20:04:51.527834",
     "status": "completed"
    },
    "tags": []
   },
   "outputs": [],
   "source": [
    "X_train, X_test, y_train, y_test = train_test_split(X_final, y_final, test_size=0.2, random_state=42)\n",
    "X_train, X_val, y_train, y_val = train_test_split(X_train, y_train, test_size=0.1, random_state=21)"
   ]
  },
  {
   "cell_type": "code",
   "execution_count": 24,
   "id": "differential-conducting",
   "metadata": {
    "execution": {
     "iopub.execute_input": "2021-05-20T20:04:51.617332Z",
     "iopub.status.busy": "2021-05-20T20:04:51.616839Z",
     "iopub.status.idle": "2021-05-20T20:05:08.517458Z",
     "shell.execute_reply": "2021-05-20T20:05:08.517898Z",
     "shell.execute_reply.started": "2021-05-20T19:08:22.020203Z"
    },
    "papermill": {
     "duration": 16.928697,
     "end_time": "2021-05-20T20:05:08.518086",
     "exception": false,
     "start_time": "2021-05-20T20:04:51.589389",
     "status": "completed"
    },
    "tags": []
   },
   "outputs": [
    {
     "name": "stdout",
     "output_type": "stream",
     "text": [
      "Epoch 1/10\n",
      "61/61 [==============================] - ETA: 0s - loss: 2.6265 - accuracy: 0.4265\n",
      "Epoch 1: val_loss improved from inf to 1.34049, saving model to weights.h5\n",
      "61/61 [==============================] - 8s 100ms/step - loss: 2.6265 - accuracy: 0.4265 - val_loss: 1.3405 - val_accuracy: 0.5521\n",
      "Epoch 2/10\n",
      "61/61 [==============================] - ETA: 0s - loss: 1.0592 - accuracy: 0.6946\n",
      "Epoch 2: val_loss improved from 1.34049 to 0.85902, saving model to weights.h5\n",
      "61/61 [==============================] - 6s 102ms/step - loss: 1.0592 - accuracy: 0.6946 - val_loss: 0.8590 - val_accuracy: 0.8195\n",
      "Epoch 3/10\n",
      "60/61 [============================>.] - ETA: 0s - loss: 0.7554 - accuracy: 0.8439\n",
      "Epoch 3: val_loss improved from 0.85902 to 0.72511, saving model to weights.h5\n",
      "61/61 [==============================] - 7s 115ms/step - loss: 0.7545 - accuracy: 0.8441 - val_loss: 0.7251 - val_accuracy: 0.8410\n",
      "Epoch 4/10\n",
      "60/61 [============================>.] - ETA: 0s - loss: 0.6444 - accuracy: 0.8791\n",
      "Epoch 4: val_loss improved from 0.72511 to 0.70351, saving model to weights.h5\n",
      "61/61 [==============================] - 7s 118ms/step - loss: 0.6444 - accuracy: 0.8791 - val_loss: 0.7035 - val_accuracy: 0.8591\n",
      "Epoch 5/10\n",
      "61/61 [==============================] - ETA: 0s - loss: 0.5771 - accuracy: 0.9012\n",
      "Epoch 5: val_loss did not improve from 0.70351\n",
      "61/61 [==============================] - 7s 118ms/step - loss: 0.5771 - accuracy: 0.9012 - val_loss: 0.7108 - val_accuracy: 0.8684\n",
      "Epoch 6/10\n",
      "60/61 [============================>.] - ETA: 0s - loss: 0.5401 - accuracy: 0.9133\n",
      "Epoch 6: val_loss improved from 0.70351 to 0.69314, saving model to weights.h5\n",
      "61/61 [==============================] - 7s 119ms/step - loss: 0.5399 - accuracy: 0.9133 - val_loss: 0.6931 - val_accuracy: 0.8794\n",
      "Epoch 7/10\n",
      "61/61 [==============================] - ETA: 0s - loss: 0.5038 - accuracy: 0.9276\n",
      "Epoch 7: val_loss improved from 0.69314 to 0.68308, saving model to weights.h5\n",
      "61/61 [==============================] - 7s 108ms/step - loss: 0.5038 - accuracy: 0.9276 - val_loss: 0.6831 - val_accuracy: 0.8800\n",
      "Epoch 8/10\n",
      "61/61 [==============================] - ETA: 0s - loss: 0.4703 - accuracy: 0.9370\n",
      "Epoch 8: val_loss did not improve from 0.68308\n",
      "61/61 [==============================] - 7s 116ms/step - loss: 0.4703 - accuracy: 0.9370 - val_loss: 0.6897 - val_accuracy: 0.8759\n",
      "Epoch 9/10\n",
      "61/61 [==============================] - ETA: 0s - loss: 0.4500 - accuracy: 0.9412\n",
      "Epoch 9: val_loss did not improve from 0.68308\n",
      "61/61 [==============================] - 7s 117ms/step - loss: 0.4500 - accuracy: 0.9412 - val_loss: 0.7567 - val_accuracy: 0.8655\n",
      "Epoch 10/10\n",
      "61/61 [==============================] - ETA: 0s - loss: 0.4367 - accuracy: 0.9460\n",
      "Epoch 10: val_loss did not improve from 0.68308\n",
      "61/61 [==============================] - 6s 104ms/step - loss: 0.4367 - accuracy: 0.9460 - val_loss: 0.7425 - val_accuracy: 0.8655\n"
     ]
    }
   ],
   "source": [
    "model_save = ModelCheckpoint('weights.h5', save_best_only = True, save_weights_only = True, monitor = 'val_loss', \n",
    "                             mode = 'min', verbose = 1)\n",
    "history = model.fit(X_train,y_train,validation_data=(X_val,y_val),epochs=10,batch_size=256,callbacks = [model_save])"
   ]
  },
  {
   "cell_type": "code",
   "execution_count": 25,
   "id": "sealed-black",
   "metadata": {
    "execution": {
     "iopub.execute_input": "2021-05-20T20:05:08.680359Z",
     "iopub.status.busy": "2021-05-20T20:05:08.679598Z",
     "iopub.status.idle": "2021-05-20T20:05:08.919786Z",
     "shell.execute_reply": "2021-05-20T20:05:08.920233Z",
     "shell.execute_reply.started": "2021-05-20T19:08:37.080367Z"
    },
    "papermill": {
     "duration": 0.330684,
     "end_time": "2021-05-20T20:05:08.920376",
     "exception": false,
     "start_time": "2021-05-20T20:05:08.589692",
     "status": "completed"
    },
    "tags": []
   },
   "outputs": [
    {
     "name": "stdout",
     "output_type": "stream",
     "text": [
      "dict_keys(['loss', 'accuracy', 'val_loss', 'val_accuracy'])\n"
     ]
    },
    {
     "data": {
      "image/png": "[encoded data removed]",
      "text/plain": [
       "<Figure size 640x480 with 1 Axes>"
      ]
     },
     "metadata": {},
     "output_type": "display_data"
    },
    {
     "data": {
      "image/png": "[encoded data removed]",
      "text/plain": [
       "<Figure size 640x480 with 1 Axes>"
      ]
     },
     "metadata": {},
     "output_type": "display_data"
    }
   ],
   "source": [
    "print(history.history.keys())\n",
    "#  \"Accuracy\"\n",
    "plt.plot(history.history['accuracy'])\n",
    "plt.plot(history.history['val_accuracy'])\n",
    "plt.title('model accuracy')\n",
    "plt.ylabel('accuracy')\n",
    "plt.xlabel('epoch')\n",
    "plt.legend(['train', 'validation'], loc='upper left')\n",
    "plt.show()\n",
    "# \"Loss\"\n",
    "plt.plot(history.history['loss'])\n",
    "plt.plot(history.history['val_loss'])\n",
    "plt.title('model loss')\n",
    "plt.ylabel('loss')\n",
    "plt.xlabel('epoch')\n",
    "plt.legend(['train', 'validation'], loc='upper left')\n",
    "plt.show()"
   ]
  },
  {
   "cell_type": "code",
   "execution_count": 26,
   "id": "growing-division",
   "metadata": {
    "execution": {
     "iopub.execute_input": "2021-05-20T20:05:09.077461Z",
     "iopub.status.busy": "2021-05-20T20:05:09.076548Z",
     "iopub.status.idle": "2021-05-20T20:05:09.083528Z",
     "shell.execute_reply": "2021-05-20T20:05:09.083119Z",
     "shell.execute_reply.started": "2021-05-20T19:08:37.432392Z"
    },
    "papermill": {
     "duration": 0.090643,
     "end_time": "2021-05-20T20:05:09.083639",
     "exception": false,
     "start_time": "2021-05-20T20:05:08.992996",
     "status": "completed"
    },
    "tags": []
   },
   "outputs": [],
   "source": [
    "model.load_weights('weights.h5')"
   ]
  },
  {
   "cell_type": "code",
   "execution_count": 36,
   "id": "chubby-drama",
   "metadata": {
    "execution": {
     "iopub.execute_input": "2021-05-20T20:05:09.231150Z",
     "iopub.status.busy": "2021-05-20T20:05:09.230621Z",
     "iopub.status.idle": "2021-05-20T20:05:10.144140Z",
     "shell.execute_reply": "2021-05-20T20:05:10.143193Z",
     "shell.execute_reply.started": "2021-05-20T19:08:37.453145Z"
    },
    "papermill": {
     "duration": 0.988444,
     "end_time": "2021-05-20T20:05:10.144275",
     "exception": false,
     "start_time": "2021-05-20T20:05:09.155831",
     "status": "completed"
    },
    "tags": []
   },
   "outputs": [
    {
     "name": "stdout",
     "output_type": "stream",
     "text": [
      "135/135 [==============================] - 1s 5ms/step\n",
      "[2 0 4 ... 0 0 2]\n"
     ]
    }
   ],
   "source": [
    "y_pred_probabilities = model.predict(X_test)\n",
    "y_pred = y_pred_probabilities.argmax(axis=-1)\n",
    "print(y_pred)"
   ]
  },
  {
   "cell_type": "code",
   "execution_count": 37,
   "id": "stretch-girlfriend",
   "metadata": {
    "execution": {
     "iopub.execute_input": "2021-05-20T20:05:10.296028Z",
     "iopub.status.busy": "2021-05-20T20:05:10.295441Z",
     "iopub.status.idle": "2021-05-20T20:05:10.298775Z",
     "shell.execute_reply": "2021-05-20T20:05:10.299354Z",
     "shell.execute_reply.started": "2021-05-20T19:08:38.387307Z"
    },
    "papermill": {
     "duration": 0.081586,
     "end_time": "2021-05-20T20:05:10.299530",
     "exception": false,
     "start_time": "2021-05-20T20:05:10.217944",
     "status": "completed"
    },
    "tags": []
   },
   "outputs": [
    {
     "name": "stdout",
     "output_type": "stream",
     "text": [
      "0.8774464119291705\n"
     ]
    }
   ],
   "source": [
    "print(accuracy_score(y_test,y_pred))"
   ]
  },
  {
   "cell_type": "code",
   "execution_count": 38,
   "id": "running-scheduling",
   "metadata": {
    "execution": {
     "iopub.execute_input": "2021-05-20T20:05:10.450442Z",
     "iopub.status.busy": "2021-05-20T20:05:10.449631Z",
     "iopub.status.idle": "2021-05-20T20:05:10.467532Z",
     "shell.execute_reply": "2021-05-20T20:05:10.468113Z",
     "shell.execute_reply.started": "2021-05-20T19:08:38.397976Z"
    },
    "papermill": {
     "duration": 0.094739,
     "end_time": "2021-05-20T20:05:10.468277",
     "exception": false,
     "start_time": "2021-05-20T20:05:10.373538",
     "status": "completed"
    },
    "tags": []
   },
   "outputs": [
    {
     "name": "stdout",
     "output_type": "stream",
     "text": [
      "              precision    recall  f1-score   support\n",
      "\n",
      "           0    0.92199   0.84279   0.88061       617\n",
      "           1    0.86902   0.78719   0.82609       531\n",
      "           2    0.89935   0.89935   0.89935      1381\n",
      "           3    0.72805   0.80818   0.76602       318\n",
      "           4    0.93103   0.93031   0.93067      1277\n",
      "           5    0.59494   0.83929   0.69630       168\n",
      "\n",
      "    accuracy                        0.87745      4292\n",
      "   macro avg    0.82406   0.85118   0.83317      4292\n",
      "weighted avg    0.88367   0.87745   0.87908      4292\n",
      "\n"
     ]
    }
   ],
   "source": [
    "print(classification_report(y_test, y_pred, digits=5))"
   ]
  },
  {
   "cell_type": "code",
   "execution_count": 39,
   "id": "executive-louis",
   "metadata": {
    "execution": {
     "iopub.execute_input": "2021-05-20T20:05:10.620675Z",
     "iopub.status.busy": "2021-05-20T20:05:10.619923Z",
     "iopub.status.idle": "2021-05-20T20:05:10.951911Z",
     "shell.execute_reply": "2021-05-20T20:05:10.952323Z",
     "shell.execute_reply.started": "2021-05-20T19:08:38.418266Z"
    },
    "papermill": {
     "duration": 0.410023,
     "end_time": "2021-05-20T20:05:10.952498",
     "exception": false,
     "start_time": "2021-05-20T20:05:10.542475",
     "status": "completed"
    },
    "tags": []
   },
   "outputs": [
    {
     "name": "stdout",
     "output_type": "stream",
     "text": [
      "Confusion Matrix\n",
      "Axes(0.125,0.11;0.62x0.77)\n"
     ]
    },
    {
     "data": {
      "image/png": "[encoded data removed]",
      "text/plain": [
       "<Figure size 640x480 with 2 Axes>"
      ]
     },
     "metadata": {},
     "output_type": "display_data"
    }
   ],
   "source": [
    "print('Confusion Matrix')\n",
    "print(sns.heatmap(confusion_matrix(y_test, y_pred),annot=True,fmt=\"d\"))"
   ]
  },
  {
   "cell_type": "code",
   "execution_count": 40,
   "id": "cultural-pursuit",
   "metadata": {
    "execution": {
     "iopub.execute_input": "2021-05-20T20:05:11.108316Z",
     "iopub.status.busy": "2021-05-20T20:05:11.107757Z",
     "iopub.status.idle": "2021-05-20T20:05:11.113341Z",
     "shell.execute_reply": "2021-05-20T20:05:11.112699Z",
     "shell.execute_reply.started": "2021-05-20T19:08:38.769162Z"
    },
    "papermill": {
     "duration": 0.085238,
     "end_time": "2021-05-20T20:05:11.113497",
     "exception": false,
     "start_time": "2021-05-20T20:05:11.028259",
     "status": "completed"
    },
    "tags": []
   },
   "outputs": [
    {
     "name": "stdout",
     "output_type": "stream",
     "text": [
      "{'anger': 0, 'fear': 1, 'happy': 2, 'love': 3, 'sadness': 4, 'surprise': 5}\n"
     ]
    }
   ],
   "source": [
    "le_name_mapping = dict(zip(label_encoder.classes_, label_encoder.transform(label_encoder.classes_)))\n",
    "print(le_name_mapping)"
   ]
  },
  {
   "cell_type": "code",
   "execution_count": 41,
   "id": "about-china",
   "metadata": {
    "execution": {
     "iopub.execute_input": "2021-05-20T20:05:11.271407Z",
     "iopub.status.busy": "2021-05-20T20:05:11.270161Z",
     "iopub.status.idle": "2021-05-20T20:05:11.272501Z",
     "shell.execute_reply": "2021-05-20T20:05:11.272900Z",
     "shell.execute_reply.started": "2021-05-20T19:08:38.776740Z"
    },
    "papermill": {
     "duration": 0.084529,
     "end_time": "2021-05-20T20:05:11.273020",
     "exception": false,
     "start_time": "2021-05-20T20:05:11.188491",
     "status": "completed"
    },
    "tags": []
   },
   "outputs": [],
   "source": [
    "#Example\n",
    "def predict_emotion(stri):\n",
    "    review = re.sub('[^a-zA-Z]', ' ', stri)\n",
    "    review = review.lower()\n",
    "    review = review.split()\n",
    "    review = [ps.stem(word) for word in review if not word in stopwords.words('english')]\n",
    "    review = ' '.join(review)\n",
    "    onehot_repr = [one_hot(review,voc_size)] \n",
    "    embed = pad_sequences(onehot_repr,padding='pre',maxlen=sent_length)\n",
    "    predicti = model.predict(embed)\n",
    "    return label_encoder.classes_[np.argmax(predicti)]"
   ]
  },
  {
   "cell_type": "code",
   "execution_count": 42,
   "id": "fresh-emergency",
   "metadata": {
    "execution": {
     "iopub.execute_input": "2021-05-20T20:05:11.426250Z",
     "iopub.status.busy": "2021-05-20T20:05:11.425692Z",
     "iopub.status.idle": "2021-05-20T20:05:11.475343Z",
     "shell.execute_reply": "2021-05-20T20:05:11.474896Z",
     "shell.execute_reply.started": "2021-05-20T19:08:38.787699Z"
    },
    "papermill": {
     "duration": 0.127738,
     "end_time": "2021-05-20T20:05:11.475455",
     "exception": false,
     "start_time": "2021-05-20T20:05:11.347717",
     "status": "completed"
    },
    "tags": []
   },
   "outputs": [
    {
     "name": "stdout",
     "output_type": "stream",
     "text": [
      "1/1 [==============================] - 0s 19ms/step\n"
     ]
    },
    {
     "data": {
      "text/plain": [
       "'happy'"
      ]
     },
     "execution_count": 42,
     "metadata": {},
     "output_type": "execute_result"
    }
   ],
   "source": [
    "predict_emotion('I am very happy and joyful today')"
   ]
  },
  {
   "cell_type": "code",
   "execution_count": 43,
   "id": "sudden-mistress",
   "metadata": {
    "execution": {
     "iopub.execute_input": "2021-05-20T20:05:11.630269Z",
     "iopub.status.busy": "2021-05-20T20:05:11.629453Z",
     "iopub.status.idle": "2021-05-20T20:05:11.668346Z",
     "shell.execute_reply": "2021-05-20T20:05:11.668741Z",
     "shell.execute_reply.started": "2021-05-20T19:08:38.842205Z"
    },
    "papermill": {
     "duration": 0.118268,
     "end_time": "2021-05-20T20:05:11.668865",
     "exception": false,
     "start_time": "2021-05-20T20:05:11.550597",
     "status": "completed"
    },
    "tags": []
   },
   "outputs": [
    {
     "name": "stdout",
     "output_type": "stream",
     "text": [
      "1/1 [==============================] - 0s 18ms/step\n"
     ]
    },
    {
     "data": {
      "text/plain": [
       "'anger'"
      ]
     },
     "execution_count": 43,
     "metadata": {},
     "output_type": "execute_result"
    }
   ],
   "source": [
    "predict_emotion('He is an arrogant and rude person')"
   ]
  },
  {
   "cell_type": "code",
   "execution_count": 44,
   "id": "deluxe-immune",
   "metadata": {
    "execution": {
     "iopub.execute_input": "2021-05-20T20:05:11.825396Z",
     "iopub.status.busy": "2021-05-20T20:05:11.824527Z",
     "iopub.status.idle": "2021-05-20T20:05:11.863920Z",
     "shell.execute_reply": "2021-05-20T20:05:11.864379Z",
     "shell.execute_reply.started": "2021-05-20T19:08:38.889043Z"
    },
    "papermill": {
     "duration": 0.120111,
     "end_time": "2021-05-20T20:05:11.864528",
     "exception": false,
     "start_time": "2021-05-20T20:05:11.744417",
     "status": "completed"
    },
    "tags": []
   },
   "outputs": [
    {
     "name": "stdout",
     "output_type": "stream",
     "text": [
      "1/1 [==============================] - 0s 21ms/step\n"
     ]
    },
    {
     "data": {
      "text/plain": [
       "'fear'"
      ]
     },
     "execution_count": 44,
     "metadata": {},
     "output_type": "execute_result"
    }
   ],
   "source": [
    "predict_emotion('The teacher is intimidating and scary')"
   ]
  },
  {
   "cell_type": "code",
   "execution_count": 45,
   "id": "11eb6e8d",
   "metadata": {},
   "outputs": [
    {
     "name": "stdout",
     "output_type": "stream",
     "text": [
      "1/1 [==============================] - 0s 16ms/step\n"
     ]
    },
    {
     "data": {
      "text/plain": [
       "'sadness'"
      ]
     },
     "execution_count": 45,
     "metadata": {},
     "output_type": "execute_result"
    }
   ],
   "source": [
    "predict_emotion('Im missing your pressence')"
   ]
  },
  {
   "cell_type": "code",
   "execution_count": 46,
   "id": "b945baba",
   "metadata": {},
   "outputs": [
    {
     "name": "stdout",
     "output_type": "stream",
     "text": [
      "1/1 [==============================] - 0s 16ms/step\n"
     ]
    },
    {
     "data": {
      "text/plain": [
       "'love'"
      ]
     },
     "execution_count": 46,
     "metadata": {},
     "output_type": "execute_result"
    }
   ],
   "source": [
    "predict_emotion('I feel I wanna get you closer and look at your eyes and have a gentle hug')"
   ]
  },
  {
   "cell_type": "code",
   "execution_count": 47,
   "id": "6990ba9d",
   "metadata": {},
   "outputs": [
    {
     "name": "stdout",
     "output_type": "stream",
     "text": [
      "1/1 [==============================] - 0s 19ms/step\n"
     ]
    },
    {
     "data": {
      "text/plain": [
       "'happy'"
      ]
     },
     "execution_count": 47,
     "metadata": {},
     "output_type": "execute_result"
    }
   ],
   "source": [
    "predict_emotion('I got my best birthday gift')"
   ]
  },
  {
   "cell_type": "code",
   "execution_count": 48,
   "id": "96482e38",
   "metadata": {},
   "outputs": [
    {
     "name": "stdout",
     "output_type": "stream",
     "text": [
      "1/1 [==============================] - 0s 16ms/step\n"
     ]
    },
    {
     "data": {
      "text/plain": [
       "'surprise'"
      ]
     },
     "execution_count": 48,
     "metadata": {},
     "output_type": "execute_result"
    }
   ],
   "source": [
    "predict_emotion('I have seen a amazing art in a gallery')"
   ]
  }
 ],
 "metadata": {
  "kernelspec": {
   "display_name": "Python 3",
   "language": "python",
   "name": "python3"
  },
  "language_info": {
   "codemirror_mode": {
    "name": "ipython",
    "version": 3
   },
   "file_extension": ".py",
   "mimetype": "text/x-python",
   "name": "python",
   "nbconvert_exporter": "python",
   "pygments_lexer": "ipython3",
   "version": "3.11.4"
  },
  "papermill": {
   "default_parameters": {},
   "duration": 89.698344,
   "end_time": "2021-05-20T20:05:14.801809",
   "environment_variables": {},
   "exception": null,
   "input_path": "__notebook__.ipynb",
   "output_path": "__notebook__.ipynb",
   "parameters": {},
   "start_time": "2021-05-20T20:03:45.103465",
   "version": "2.3.3"
  }
 },
 "nbformat": 4,
 "nbformat_minor": 5
}
